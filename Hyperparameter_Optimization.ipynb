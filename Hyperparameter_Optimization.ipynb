{
  "nbformat": 4,
  "nbformat_minor": 0,
  "metadata": {
    "colab": {
      "name": "Hyperparameter Optimization.ipynb",
      "provenance": [],
      "toc_visible": true,
      "authorship_tag": "ABX9TyM/TE6D8IqHiIw+6Jg2qB6S",
      "include_colab_link": true
    },
    "kernelspec": {
      "name": "python3",
      "display_name": "Python 3"
    },
    "language_info": {
      "name": "python"
    }
  },
  "cells": [
    {
      "cell_type": "markdown",
      "metadata": {
        "id": "view-in-github",
        "colab_type": "text"
      },
      "source": [
        "<a href=\"https://colab.research.google.com/github/Riyad2k9/Riyad/blob/master/Hyperparameter_Optimization.ipynb\" target=\"_parent\"><img src=\"https://colab.research.google.com/assets/colab-badge.svg\" alt=\"Open In Colab\"/></a>"
      ]
    },
    {
      "cell_type": "markdown",
      "metadata": {
        "id": "ZBP0hQGRJopy"
      },
      "source": [
        "#Md Riyad Hossain\n",
        "##SID: 20535580\n",
        "###Project: Hyperparamter optimization"
      ]
    },
    {
      "cell_type": "code",
      "metadata": {
        "id": "lo0yUq_DJxBc"
      },
      "source": [
        "import numpy as np\n",
        "import pandas as pd\n",
        "import seaborn as sns\n",
        "import matplotlib.pyplot as plt\n",
        "from sklearn.model_selection import train_test_split,cross_val_score\n",
        "from sklearn.ensemble import RandomForestClassifier,RandomForestRegressor\n",
        "from sklearn.metrics import classification_report,confusion_matrix,accuracy_score\n",
        "from sklearn.neighbors import KNeighborsClassifier,KNeighborsRegressor\n",
        "from sklearn.svm import SVC,SVR\n",
        "from sklearn import datasets\n",
        "import scipy.stats as stats"
      ],
      "execution_count": 1,
      "outputs": []
    },
    {
      "cell_type": "code",
      "metadata": {
        "colab": {
          "base_uri": "https://localhost:8080/"
        },
        "id": "Y89f2pe5KiLN",
        "outputId": "386ee544-d973-49a3-d2a1-3248aefeaf97"
      },
      "source": [
        "import pandas as pd\n",
        "df=pd.read_excel('DPTL Fiber Test Report.xlsx',sheet_name='app')\n",
        "print(df.columns)\n",
        "print(df.count())"
      ],
      "execution_count": 2,
      "outputs": [
        {
          "output_type": "stream",
          "text": [
            "Index(['Date', 'Denier', 'Max_Breaking_Force_(cN)', 'Min_Breaking_Force_(cN)',\n",
            "       'Avg_Breaking_Force_(cN)', 'Max_Elongation_( %)', 'Min_Elongation_( %)',\n",
            "       'Avg_Elongation_( %)', 'Draw Ratio', 'tenacity'],\n",
            "      dtype='object')\n",
            "Date                       222\n",
            "Denier                     222\n",
            "Max_Breaking_Force_(cN)    222\n",
            "Min_Breaking_Force_(cN)    222\n",
            "Avg_Breaking_Force_(cN)    222\n",
            "Max_Elongation_( %)        222\n",
            "Min_Elongation_( %)        222\n",
            "Avg_Elongation_( %)        222\n",
            "Draw Ratio                 222\n",
            "tenacity                   222\n",
            "dtype: int64\n"
          ],
          "name": "stdout"
        }
      ]
    },
    {
      "cell_type": "code",
      "metadata": {
        "colab": {
          "base_uri": "https://localhost:8080/"
        },
        "id": "0lL11NkQK3sO",
        "outputId": "2cd2e155-0e81-4aa8-ca58-d3901f0a3ff0"
      },
      "source": [
        "#df.head()\n",
        "X=df.drop(columns=['Date']).values\n",
        "y= df.tenacity\n",
        "print(df.columns)"
      ],
      "execution_count": 5,
      "outputs": [
        {
          "output_type": "stream",
          "text": [
            "Index(['Date', 'Denier', 'Max_Breaking_Force_(cN)', 'Min_Breaking_Force_(cN)',\n",
            "       'Avg_Breaking_Force_(cN)', 'Max_Elongation_( %)', 'Min_Elongation_( %)',\n",
            "       'Avg_Elongation_( %)', 'Draw Ratio', 'tenacity'],\n",
            "      dtype='object')\n"
          ],
          "name": "stdout"
        }
      ]
    },
    {
      "cell_type": "markdown",
      "metadata": {
        "id": "LmFs-SrdLVdN"
      },
      "source": [
        "#1:Regressors with Default Hyperparameters"
      ]
    },
    {
      "cell_type": "markdown",
      "metadata": {
        "id": "eUofCaxGMPw_"
      },
      "source": [
        "Random Forest"
      ]
    },
    {
      "cell_type": "code",
      "metadata": {
        "colab": {
          "base_uri": "https://localhost:8080/"
        },
        "id": "fEmkfdWzLdcE",
        "outputId": "099304c1-c18b-4698-fde8-7c1d87b15441"
      },
      "source": [
        "clf = RandomForestRegressor()\n",
        "scores = cross_val_score(clf, X, y, cv=3,scoring='neg_mean_squared_error') # 3-fold cross-validation\n",
        "print(\"MSE:\"+ str(-scores.mean()))"
      ],
      "execution_count": 21,
      "outputs": [
        {
          "output_type": "stream",
          "text": [
            "MSE:0.44817502234233614\n"
          ],
          "name": "stdout"
        }
      ]
    },
    {
      "cell_type": "markdown",
      "metadata": {
        "id": "HzWodqIgMjh8"
      },
      "source": [
        "Support Vector Machine"
      ]
    },
    {
      "cell_type": "code",
      "metadata": {
        "colab": {
          "base_uri": "https://localhost:8080/"
        },
        "id": "9fR8nJXRMmIS",
        "outputId": "404f5d42-c7b5-4e0e-b298-f1a5591544c4"
      },
      "source": [
        "#SVM\n",
        "clf = SVR(gamma='scale')\n",
        "scores = cross_val_score(clf, X, y, cv=3,scoring='neg_mean_squared_error')\n",
        "print(\"MSE:\"+ str(-scores.mean()))"
      ],
      "execution_count": 22,
      "outputs": [
        {
          "output_type": "stream",
          "text": [
            "MSE:36.53649492107039\n"
          ],
          "name": "stdout"
        }
      ]
    },
    {
      "cell_type": "markdown",
      "metadata": {
        "id": "jywF6VehM42q"
      },
      "source": [
        "K-Nearest Neighbours"
      ]
    },
    {
      "cell_type": "code",
      "metadata": {
        "colab": {
          "base_uri": "https://localhost:8080/"
        },
        "id": "i9IW-irJM8bs",
        "outputId": "1314996c-b9af-4ba2-9418-c894c63a5bd6"
      },
      "source": [
        "#KNN\n",
        "clf = KNeighborsRegressor()\n",
        "scores = cross_val_score(clf, X, y, cv=3,scoring='neg_mean_squared_error')\n",
        "print(\"MSE:\"+ str(-scores.mean()))"
      ],
      "execution_count": 23,
      "outputs": [
        {
          "output_type": "stream",
          "text": [
            "MSE:31.00693801801801\n"
          ],
          "name": "stdout"
        }
      ]
    },
    {
      "cell_type": "markdown",
      "metadata": {
        "id": "byfo3GqQNqlM"
      },
      "source": [
        "Artificial Neural Network"
      ]
    },
    {
      "cell_type": "code",
      "metadata": {
        "id": "Pli2IElwNn8w"
      },
      "source": [
        "#ANN\n",
        "from keras.models import Sequential, Model\n",
        "from keras.layers import Dense, Input\n",
        "from sklearn.model_selection import GridSearchCV\n",
        "from keras.wrappers.scikit_learn import KerasRegressor\n",
        "from keras.callbacks import EarlyStopping\n",
        "def ANN(optimizer = 'adam',neurons=32,batch_size=32,epochs=50,activation='relu',patience=5,loss='mse'):\n",
        "    model = Sequential()\n",
        "    model.add(Dense(neurons, input_shape=(X.shape[1],), activation=activation))\n",
        "    model.add(Dense(neurons, activation=activation))\n",
        "    model.add(Dense(1))\n",
        "    model.compile(optimizer = optimizer, loss=loss)\n",
        "    early_stopping = EarlyStopping(monitor=\"loss\", patience = patience)# early stop patience\n",
        "    history = model.fit(X, y,\n",
        "              batch_size=batch_size,\n",
        "              epochs=epochs,\n",
        "              callbacks = [early_stopping],\n",
        "              verbose=0) #verbose set to 1 will show the training process\n",
        "    return model"
      ],
      "execution_count": 26,
      "outputs": []
    },
    {
      "cell_type": "code",
      "metadata": {
        "colab": {
          "base_uri": "https://localhost:8080/"
        },
        "id": "vWYGTNK7N8al",
        "outputId": "87d887ab-f3fe-472a-9bf0-1eb15b2a905f"
      },
      "source": [
        "clf = KerasRegressor(build_fn=ANN, verbose=0)\n",
        "scores = cross_val_score(clf, X, y, cv=3,scoring='neg_mean_squared_error')\n",
        "print(\"MSE:\"+ str(-scores.mean()))"
      ],
      "execution_count": 27,
      "outputs": [
        {
          "output_type": "stream",
          "text": [
            "MSE:7.137122322406706\n"
          ],
          "name": "stdout"
        }
      ]
    },
    {
      "cell_type": "markdown",
      "metadata": {
        "id": "zv1PWhWkPF-z"
      },
      "source": [
        "# Grid Search"
      ]
    },
    {
      "cell_type": "markdown",
      "metadata": {
        "id": "ZNoay028aEje"
      },
      "source": [
        "1. Random Forest"
      ]
    },
    {
      "cell_type": "code",
      "metadata": {
        "colab": {
          "base_uri": "https://localhost:8080/"
        },
        "id": "QVlPzj2bPMiX",
        "outputId": "806a04fc-0ede-40b2-e7de-b56d872a1a9f"
      },
      "source": [
        "#Random Forest\n",
        "from sklearn.model_selection import GridSearchCV\n",
        "# Define the hyperparameter configuration space\n",
        "rf_params = {\n",
        "    'n_estimators': [10, 20, 30],\n",
        "    'max_features': ['sqrt',0.5],\n",
        "    'max_depth': [15,20,30,50],\n",
        "    'min_samples_leaf': [1,2,4,8],\n",
        "    \"bootstrap\":[True,False],\n",
        "    \"criterion\":['mse','mae']\n",
        "}\n",
        "clf = RandomForestRegressor(random_state=0)\n",
        "grid = GridSearchCV(clf, rf_params, cv=3, scoring='neg_mean_squared_error')\n",
        "grid_results = grid.fit(X, y)\n",
        "#grid.fit(X, y)\n",
        "print(grid.best_params_)\n",
        "print(\"MSE:\"+ str(-grid.best_score_))"
      ],
      "execution_count": 34,
      "outputs": [
        {
          "output_type": "stream",
          "text": [
            "{'bootstrap': False, 'criterion': 'mae', 'max_depth': 15, 'max_features': 0.5, 'min_samples_leaf': 1, 'n_estimators': 30}\n",
            "MSE:1.0529643617367346\n"
          ],
          "name": "stdout"
        }
      ]
    },
    {
      "cell_type": "markdown",
      "metadata": {
        "id": "aLKK9MmZab6F"
      },
      "source": [
        "Support Vector Machine"
      ]
    },
    {
      "cell_type": "code",
      "metadata": {
        "colab": {
          "base_uri": "https://localhost:8080/"
        },
        "id": "GiI17g1ZameU",
        "outputId": "8519f8e2-5fb1-4e9e-dc32-f2106b59dea9"
      },
      "source": [
        "#SVM\n",
        "from sklearn.model_selection import GridSearchCV\n",
        "rf_params = {\n",
        "    'C': [1,10, 100],\n",
        "    \"kernel\":['poly','rbf','sigmoid'],\n",
        "    \"epsilon\":[0.01,0.1,1]\n",
        "}\n",
        "clf = SVR(gamma='scale')\n",
        "grid = GridSearchCV(clf, rf_params, cv=3, scoring='neg_mean_squared_error')\n",
        "grid.fit(X, y)\n",
        "print(grid.best_params_)\n",
        "print(\"MSE:\"+ str(-grid.best_score_))"
      ],
      "execution_count": 35,
      "outputs": [
        {
          "output_type": "stream",
          "text": [
            "{'C': 100, 'epsilon': 0.01, 'kernel': 'rbf'}\n",
            "MSE:0.9265117164053054\n"
          ],
          "name": "stdout"
        }
      ]
    },
    {
      "cell_type": "markdown",
      "metadata": {
        "id": "ljen9hBTbQUc"
      },
      "source": [
        "KNN"
      ]
    },
    {
      "cell_type": "code",
      "metadata": {
        "colab": {
          "base_uri": "https://localhost:8080/"
        },
        "id": "JeRiHlHMbQyB",
        "outputId": "89a50876-cfcc-4c69-b260-764e3c211d07"
      },
      "source": [
        "#KNN\n",
        "from sklearn.model_selection import GridSearchCV\n",
        "rf_params = {\n",
        "    'n_neighbors': [2, 3, 5,7,10]\n",
        "}\n",
        "clf = KNeighborsRegressor()\n",
        "grid = GridSearchCV(clf, rf_params, cv=3, scoring='neg_mean_squared_error')\n",
        "grid.fit(X, y)\n",
        "print(grid.best_params_)\n",
        "print(\"MSE:\"+ str(-grid.best_score_))"
      ],
      "execution_count": 36,
      "outputs": [
        {
          "output_type": "stream",
          "text": [
            "{'n_neighbors': 2}\n",
            "MSE:29.450023761261264\n"
          ],
          "name": "stdout"
        }
      ]
    },
    {
      "cell_type": "code",
      "metadata": {
        "colab": {
          "base_uri": "https://localhost:8080/"
        },
        "id": "QeIGRNXKbi5J",
        "outputId": "2f26927e-30fe-4df6-f3eb-0ad1ff073fd4"
      },
      "source": [
        "#ANN\n",
        "from sklearn.model_selection import GridSearchCV\n",
        "rf_params = {\n",
        "    'optimizer': ['adam','rmsprop'],\n",
        "    'activation': ['relu','tanh'],\n",
        "    'loss': ['mse','mae'],\n",
        "    'batch_size': [16,32],\n",
        "    'neurons':[16,32],\n",
        "    'epochs':[20,50],\n",
        "    'patience':[2,5]\n",
        "}\n",
        "clf = KerasRegressor(build_fn=ANN, verbose=0)\n",
        "grid = GridSearchCV(clf, rf_params, cv=3,scoring='neg_mean_squared_error')\n",
        "grid.fit(X, y)\n",
        "print(grid.best_params_)\n",
        "print(\"MSE:\"+ str(-grid.best_score_))"
      ],
      "execution_count": 37,
      "outputs": [
        {
          "output_type": "stream",
          "text": [
            "WARNING:tensorflow:5 out of the last 15 calls to <function Model.make_predict_function.<locals>.predict_function at 0x7f1e8d8f1d40> triggered tf.function retracing. Tracing is expensive and the excessive number of tracings could be due to (1) creating @tf.function repeatedly in a loop, (2) passing tensors with different shapes, (3) passing Python objects instead of tensors. For (1), please define your @tf.function outside of the loop. For (2), @tf.function has experimental_relax_shapes=True option that relaxes argument shapes that can avoid unnecessary retracing. For (3), please refer to https://www.tensorflow.org/guide/function#controlling_retracing and https://www.tensorflow.org/api_docs/python/tf/function for  more details.\n",
            "WARNING:tensorflow:5 out of the last 13 calls to <function Model.make_predict_function.<locals>.predict_function at 0x7f1e8c7c8560> triggered tf.function retracing. Tracing is expensive and the excessive number of tracings could be due to (1) creating @tf.function repeatedly in a loop, (2) passing tensors with different shapes, (3) passing Python objects instead of tensors. For (1), please define your @tf.function outside of the loop. For (2), @tf.function has experimental_relax_shapes=True option that relaxes argument shapes that can avoid unnecessary retracing. For (3), please refer to https://www.tensorflow.org/guide/function#controlling_retracing and https://www.tensorflow.org/api_docs/python/tf/function for  more details.\n",
            "{'activation': 'relu', 'batch_size': 16, 'epochs': 50, 'loss': 'mae', 'neurons': 32, 'optimizer': 'adam', 'patience': 5}\n",
            "MSE:0.4746772858398365\n"
          ],
          "name": "stdout"
        }
      ]
    },
    {
      "cell_type": "markdown",
      "metadata": {
        "id": "9n55qe2xeQxQ"
      },
      "source": [
        ""
      ]
    },
    {
      "cell_type": "markdown",
      "metadata": {
        "id": "m4cFdRvoeR2B"
      },
      "source": [
        "# Random Search "
      ]
    },
    {
      "cell_type": "code",
      "metadata": {
        "colab": {
          "base_uri": "https://localhost:8080/"
        },
        "id": "pHIjakZIeZQv",
        "outputId": "f6e6de79-51c4-49dd-b432-64043738f399"
      },
      "source": [
        "#SVM\n",
        "from scipy.stats import randint as sp_randint\n",
        "from sklearn.model_selection import RandomizedSearchCV\n",
        "rf_params = {\n",
        "    'C': stats.uniform(0,50),\n",
        "    \"kernel\":['poly','rbf','sigmoid'],\n",
        "    \"epsilon\":stats.uniform(0,1)\n",
        "}\n",
        "n_iter_search=20\n",
        "clf = SVR(gamma='scale')\n",
        "Random = RandomizedSearchCV(clf, param_distributions=rf_params,n_iter=n_iter_search,cv=3,scoring='neg_mean_squared_error')\n",
        "Random.fit(X, y)\n",
        "print(Random.best_params_)\n",
        "print(\"MSE:\"+ str(-Random.best_score_))"
      ],
      "execution_count": 38,
      "outputs": [
        {
          "output_type": "stream",
          "text": [
            "{'C': 45.097277147474166, 'epsilon': 0.1215945066455495, 'kernel': 'rbf'}\n",
            "MSE:2.9103970448730103\n"
          ],
          "name": "stdout"
        }
      ]
    },
    {
      "cell_type": "code",
      "metadata": {
        "colab": {
          "base_uri": "https://localhost:8080/"
        },
        "id": "Frgra2mMenXe",
        "outputId": "8bb2e683-fc59-4e08-f046-8c1d37f9b2c0"
      },
      "source": [
        "#KNN\n",
        "from scipy.stats import randint as sp_randint\n",
        "from sklearn.model_selection import RandomizedSearchCV\n",
        "rf_params = {\n",
        "    'n_neighbors': sp_randint(1,20),\n",
        "}\n",
        "n_iter_search=10\n",
        "clf = KNeighborsRegressor()\n",
        "Random = RandomizedSearchCV(clf, param_distributions=rf_params,n_iter=n_iter_search,cv=3,scoring='neg_mean_squared_error')\n",
        "Random.fit(X, y)\n",
        "print(Random.best_params_)\n",
        "print(\"MSE:\"+ str(-Random.best_score_))"
      ],
      "execution_count": 39,
      "outputs": [
        {
          "output_type": "stream",
          "text": [
            "{'n_neighbors': 2}\n",
            "MSE:29.450023761261264\n"
          ],
          "name": "stdout"
        }
      ]
    },
    {
      "cell_type": "code",
      "metadata": {
        "colab": {
          "base_uri": "https://localhost:8080/"
        },
        "id": "HH-qU9UPep9-",
        "outputId": "3120a1a8-8840-4a8f-fcdf-458641072ec5"
      },
      "source": [
        "#ANN\n",
        "from scipy.stats import randint as sp_randint\n",
        "from random import randrange as sp_randrange\n",
        "from sklearn.model_selection import RandomizedSearchCV\n",
        "rf_params = {\n",
        "    'optimizer': ['adam','rmsprop'],\n",
        "    'activation': ['relu','tanh'],\n",
        "    'loss': ['mse','mae'],\n",
        "    'batch_size': [16,32,64],\n",
        "    'neurons':sp_randint(10,100),\n",
        "    'epochs':[20,50],\n",
        "    #'epochs':[20,50,100,200],\n",
        "    'patience':sp_randint(3,20)\n",
        "}\n",
        "n_iter_search=10\n",
        "clf = KerasRegressor(build_fn=ANN, verbose=0)\n",
        "Random = RandomizedSearchCV(clf, param_distributions=rf_params,n_iter=n_iter_search,cv=3,scoring='neg_mean_squared_error')\n",
        "Random.fit(X, y)\n",
        "print(Random.best_params_)\n",
        "print(\"MSE:\"+ str(-Random.best_score_))"
      ],
      "execution_count": 40,
      "outputs": [
        {
          "output_type": "stream",
          "text": [
            "{'activation': 'relu', 'batch_size': 16, 'epochs': 20, 'loss': 'mse', 'neurons': 97, 'optimizer': 'adam', 'patience': 3}\n",
            "MSE:0.3044385336293817\n"
          ],
          "name": "stdout"
        }
      ]
    },
    {
      "cell_type": "markdown",
      "metadata": {
        "id": "XYZV2puafWhH"
      },
      "source": [
        "# Bayesian Optimization with Gaussian Process (BO-GP)"
      ]
    },
    {
      "cell_type": "code",
      "metadata": {
        "colab": {
          "base_uri": "https://localhost:8080/"
        },
        "id": "z1fxIk0YhOvB",
        "outputId": "b290269d-3418-4532-ad5f-d78bb40c31ff"
      },
      "source": [
        "! pip install scikit-optimize"
      ],
      "execution_count": 45,
      "outputs": [
        {
          "output_type": "stream",
          "text": [
            "Collecting scikit-optimize\n",
            "\u001b[?25l  Downloading https://files.pythonhosted.org/packages/8b/03/be33e89f55866065a02e515c5b319304a801a9f1027a9b311a9b1d1f8dc7/scikit_optimize-0.8.1-py2.py3-none-any.whl (101kB)\n",
            "\r\u001b[K     |███▎                            | 10kB 11.6MB/s eta 0:00:01\r\u001b[K     |██████▌                         | 20kB 15.0MB/s eta 0:00:01\r\u001b[K     |█████████▊                      | 30kB 18.4MB/s eta 0:00:01\r\u001b[K     |█████████████                   | 40kB 20.9MB/s eta 0:00:01\r\u001b[K     |████████████████▏               | 51kB 22.5MB/s eta 0:00:01\r\u001b[K     |███████████████████▍            | 61kB 24.2MB/s eta 0:00:01\r\u001b[K     |██████████████████████▊         | 71kB 25.3MB/s eta 0:00:01\r\u001b[K     |██████████████████████████      | 81kB 26.3MB/s eta 0:00:01\r\u001b[K     |█████████████████████████████▏  | 92kB 27.7MB/s eta 0:00:01\r\u001b[K     |████████████████████████████████| 102kB 9.7MB/s \n",
            "\u001b[?25hRequirement already satisfied: scikit-learn>=0.20.0 in /usr/local/lib/python3.7/dist-packages (from scikit-optimize) (0.22.2.post1)\n",
            "Collecting pyaml>=16.9\n",
            "  Downloading https://files.pythonhosted.org/packages/15/c4/1310a054d33abc318426a956e7d6df0df76a6ddfa9c66f6310274fb75d42/pyaml-20.4.0-py2.py3-none-any.whl\n",
            "Requirement already satisfied: joblib>=0.11 in /usr/local/lib/python3.7/dist-packages (from scikit-optimize) (1.0.1)\n",
            "Requirement already satisfied: scipy>=0.19.1 in /usr/local/lib/python3.7/dist-packages (from scikit-optimize) (1.4.1)\n",
            "Requirement already satisfied: numpy>=1.13.3 in /usr/local/lib/python3.7/dist-packages (from scikit-optimize) (1.19.5)\n",
            "Requirement already satisfied: PyYAML in /usr/local/lib/python3.7/dist-packages (from pyaml>=16.9->scikit-optimize) (3.13)\n",
            "Installing collected packages: pyaml, scikit-optimize\n",
            "Successfully installed pyaml-20.4.0 scikit-optimize-0.8.1\n"
          ],
          "name": "stdout"
        }
      ]
    },
    {
      "cell_type": "code",
      "metadata": {
        "colab": {
          "base_uri": "https://localhost:8080/"
        },
        "id": "U6ZpuzR_fayl",
        "outputId": "599f02e0-8194-4e76-aed1-b05d11726d04"
      },
      "source": [
        "#SVM\n",
        "from skopt import Optimizer\n",
        "from skopt import BayesSearchCV \n",
        "from skopt.space import Real, Categorical, Integer\n",
        "rf_params = {\n",
        "    'C': Real(0,50),\n",
        "    \"kernel\":['poly','rbf','sigmoid'],\n",
        "    'epsilon': Real(0,1)\n",
        "}\n",
        "clf = SVR(gamma='scale')\n",
        "Bayes = BayesSearchCV(clf, rf_params,cv=3,n_iter=20, scoring='neg_mean_squared_error')\n",
        "Bayes.fit(X, y)\n",
        "print(Bayes.best_params_)\n",
        "print(\"MSE:\"+ str(-Bayes.best_score_))"
      ],
      "execution_count": 47,
      "outputs": [
        {
          "output_type": "stream",
          "text": [
            "OrderedDict([('C', 47.226705748385406), ('epsilon', 0.6050391339259759), ('kernel', 'rbf')])\n",
            "MSE:4.157092337907249\n"
          ],
          "name": "stdout"
        }
      ]
    },
    {
      "cell_type": "code",
      "metadata": {
        "colab": {
          "base_uri": "https://localhost:8080/"
        },
        "id": "sqPApbvtitPT",
        "outputId": "5c7680e9-ea51-4117-efe4-e4e73e16770a"
      },
      "source": [
        "#KNN\n",
        "from skopt import Optimizer\n",
        "from skopt import BayesSearchCV \n",
        "from skopt.space import Real, Categorical, Integer\n",
        "rf_params = {\n",
        "    'n_neighbors': Integer(1,20),\n",
        "}\n",
        "clf = KNeighborsRegressor()\n",
        "Bayes = BayesSearchCV(clf, rf_params,cv=3,n_iter=10, scoring='neg_mean_squared_error')\n",
        "Bayes.fit(X, y)\n",
        "print(Bayes.best_params_)\n",
        "print(\"MSE:\"+ str(-Bayes.best_score_))"
      ],
      "execution_count": 48,
      "outputs": [
        {
          "output_type": "stream",
          "text": [
            "OrderedDict([('n_neighbors', 6)])\n",
            "MSE:31.708766366366362\n"
          ],
          "name": "stdout"
        }
      ]
    },
    {
      "cell_type": "code",
      "metadata": {
        "colab": {
          "base_uri": "https://localhost:8080/"
        },
        "id": "OOi94mP8iu65",
        "outputId": "2e52d25a-fa38-4d8f-cb6b-0e081e76dd0e"
      },
      "source": [
        "#ANN\n",
        "from skopt import Optimizer\n",
        "from skopt import BayesSearchCV \n",
        "from skopt.space import Real, Categorical, Integer\n",
        "rf_params = {\n",
        "    'optimizer': ['adam','rmsprop'],\n",
        "    'activation': ['relu','tanh'],\n",
        "    'loss': ['mse','mae'],\n",
        "    'batch_size': [16,32,64],\n",
        "    'neurons':Integer(10,100),\n",
        "    'epochs':[20,50],\n",
        "    #'epochs':[20,50,100,200],\n",
        "    'patience':Integer(3,20)\n",
        "}\n",
        "clf = KerasRegressor(build_fn=ANN, verbose=0)\n",
        "Bayes = BayesSearchCV(clf, rf_params,cv=3,n_iter=10, scoring='neg_mean_squared_error')\n",
        "Bayes.fit(X, y)\n",
        "print(Bayes.best_params_)\n",
        "print(\"MSE:\"+ str(-Bayes.best_score_))"
      ],
      "execution_count": 49,
      "outputs": [
        {
          "output_type": "stream",
          "text": [
            "OrderedDict([('activation', 'relu'), ('batch_size', 16), ('epochs', 31), ('loss', 'mae'), ('neurons', 89), ('optimizer', 'adam'), ('patience', 4)])\n",
            "MSE:0.3077114453802641\n"
          ],
          "name": "stdout"
        }
      ]
    },
    {
      "cell_type": "markdown",
      "metadata": {
        "id": "RBntKtCCi3m1"
      },
      "source": [
        "# gp_minimize"
      ]
    },
    {
      "cell_type": "code",
      "metadata": {
        "colab": {
          "base_uri": "https://localhost:8080/"
        },
        "id": "vHoMU_LYi88Z",
        "outputId": "43f51b7c-a1b9-4ecb-cac0-6f406c4cd3f3"
      },
      "source": [
        "#SVM\n",
        "from skopt.space import Real, Integer\n",
        "from skopt.utils import use_named_args\n",
        "\n",
        "reg = SVR(gamma='scale')\n",
        "space  = [Real(0, 50, name='C'),\n",
        "          Categorical(['poly','rbf','sigmoid'], name='kernel'),\n",
        "          Real(0, 1, name='epsilon'),\n",
        "         ]\n",
        "\n",
        "@use_named_args(space)\n",
        "def objective(**params):\n",
        "    reg.set_params(**params)\n",
        "\n",
        "    return -np.mean(cross_val_score(reg, X, y, cv=3, n_jobs=-1,\n",
        "                                    scoring=\"neg_mean_squared_error\"))\n",
        "from skopt import gp_minimize\n",
        "res_gp = gp_minimize(objective, space, n_calls=20, random_state=0)\n",
        "print(\"MSE:%.4f\" % res_gp.fun)\n",
        "print(res_gp.x)"
      ],
      "execution_count": 50,
      "outputs": [
        {
          "output_type": "stream",
          "text": [
            "MSE:3.9821\n",
            "[42.36258693920628, 'rbf', 0.38438170729269994]\n"
          ],
          "name": "stdout"
        }
      ]
    },
    {
      "cell_type": "code",
      "metadata": {
        "colab": {
          "base_uri": "https://localhost:8080/"
        },
        "id": "BEwWbBEBjG0r",
        "outputId": "c8d3afe5-dd22-44b6-e70a-590dbb56da45"
      },
      "source": [
        "#KNN\n",
        "from skopt.space import Real, Integer\n",
        "from skopt.utils import use_named_args\n",
        "\n",
        "reg = KNeighborsRegressor()\n",
        "space  = [Integer(1, 20, name='n_neighbors')]\n",
        "\n",
        "@use_named_args(space)\n",
        "def objective(**params):\n",
        "    reg.set_params(**params)\n",
        "\n",
        "    return -np.mean(cross_val_score(reg, X, y, cv=3, n_jobs=-1,\n",
        "                                    scoring=\"neg_mean_squared_error\"))\n",
        "from skopt import gp_minimize\n",
        "res_gp = gp_minimize(objective, space, n_calls=10, random_state=0)\n",
        "print(\"MSE:%.4f\" % res_gp.fun)\n",
        "print(res_gp.x)"
      ],
      "execution_count": 51,
      "outputs": [
        {
          "output_type": "stream",
          "text": [
            "MSE:29.4500\n",
            "[2]\n"
          ],
          "name": "stdout"
        }
      ]
    }
  ]
}